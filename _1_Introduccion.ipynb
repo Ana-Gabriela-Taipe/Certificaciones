{
  "cells": [
    {
      "cell_type": "markdown",
      "metadata": {
        "id": "view-in-github",
        "colab_type": "text"
      },
      "source": [
        "<a href=\"https://colab.research.google.com/github/Ana-Gabriela-Taipe/Certificaciones/blob/main/_1_Introduccion.ipynb\" target=\"_parent\"><img src=\"https://colab.research.google.com/assets/colab-badge.svg\" alt=\"Open In Colab\"/></a>"
      ]
    },
    {
      "source": [
        "# Notas RStudio"
      ],
      "metadata": {
        "id": "c194f55e-6fed-4110-b4a4-0face4723576"
      },
      "cell_type": "markdown",
      "id": "c194f55e-6fed-4110-b4a4-0face4723576"
    },
    {
      "source": [
        "## Operación vector 3 dim con 2-dim\n",
        "R reutiliza el 1er valor del vector de longitud 2, ¡pero note la advertencia!"
      ],
      "metadata": {
        "id": "38ee55bb-a7eb-476c-97ff-b61fb9dd7777"
      },
      "cell_type": "markdown",
      "id": "38ee55bb-a7eb-476c-97ff-b61fb9dd7777"
    },
    {
      "source": [
        "ret<-c(1,2,3)\n",
        "ret * c(.2, .6)"
      ],
      "metadata": {
        "executionCancelledAt": null,
        "executionTime": 148,
        "lastExecutedAt": 1687748155620,
        "lastScheduledRunId": null,
        "lastSuccessfullyExecutedCode": "ret<-c(1,2,3)\nret * c(.2, .6)",
        "id": "eddd9d95-18c6-4d6e-afc0-520f7cc81f14",
        "outputId": "74c99e8d-fc59-4142-942f-ad95e63fa390"
      },
      "cell_type": "code",
      "id": "eddd9d95-18c6-4d6e-afc0-520f7cc81f14",
      "execution_count": null,
      "outputs": [
        {
          "output_type": "stream",
          "name": "stderr",
          "text": "Warning message in ret * c(0.2, 0.6):\n“longer object length is not a multiple of shorter object length”\n"
        },
        {
          "output_type": "display_data",
          "data": {
            "text/html": "<style>\n.list-inline {list-style: none; margin:0; padding: 0}\n.list-inline>li {display: inline-block}\n.list-inline>li:not(:last-child)::after {content: \"\\00b7\"; padding: 0 .5ex}\n</style>\n<ol class=list-inline><li>0.2</li><li>1.2</li><li>0.6</li></ol>\n",
            "text/markdown": "1. 0.2\n2. 1.2\n3. 0.6\n\n\n",
            "text/latex": "\\begin{enumerate*}\n\\item 0.2\n\\item 1.2\n\\item 0.6\n\\end{enumerate*}\n",
            "text/plain": "[1] 0.2 1.2 0.6"
          },
          "metadata": {}
        }
      ]
    },
    {
      "source": [
        "## Obtener elementos que cumplan una condicion TRUE"
      ],
      "metadata": {
        "id": "bb1158c3-1512-427d-9f5a-c7d8693c960c"
      },
      "cell_type": "markdown",
      "id": "bb1158c3-1512-427d-9f5a-c7d8693c960c"
    },
    {
      "source": [
        "# Poker and roulette winnings from Monday to Friday:\n",
        "poker_vector <- c(140, -50, 20, -120, 240)\n",
        "roulette_vector <- c(-24, -50, 100, -350, 10)\n",
        "days_vector <- c(\"Monday\", \"Tuesday\", \"Wednesday\", \"Thursday\", \"Friday\")\n",
        "names(poker_vector) <- days_vector\n",
        "names(roulette_vector) <- days_vector\n",
        "\n",
        "# Which days did you make money on poker?\n",
        "selection_vector <- poker_vector > 0\n",
        "print(selection_vector)\n",
        "\n",
        "# Select from poker_vector these days\n",
        "poker_winning_days <- poker_vector[selection_vector]\n",
        "print(poker_winning_days)"
      ],
      "metadata": {
        "executionCancelledAt": null,
        "executionTime": 29,
        "lastExecutedAt": 1687552661737,
        "lastScheduledRunId": null,
        "lastSuccessfullyExecutedCode": "# Poker and roulette winnings from Monday to Friday:\npoker_vector <- c(140, -50, 20, -120, 240)\nroulette_vector <- c(-24, -50, 100, -350, 10)\ndays_vector <- c(\"Monday\", \"Tuesday\", \"Wednesday\", \"Thursday\", \"Friday\")\nnames(poker_vector) <- days_vector\nnames(roulette_vector) <- days_vector\n\n# Which days did you make money on poker?\nselection_vector <- poker_vector > 0\nprint(selection_vector)\n\n# Select from poker_vector these days\npoker_winning_days <- poker_vector[selection_vector]\nprint(poker_winning_days)",
        "id": "78dc6e2c-254c-4c5b-90bb-879de319f7b5",
        "outputId": "f407bd72-acda-4d69-b88c-97150f944bc6"
      },
      "cell_type": "code",
      "id": "78dc6e2c-254c-4c5b-90bb-879de319f7b5",
      "execution_count": null,
      "outputs": [
        {
          "output_type": "stream",
          "name": "stdout",
          "text": "   Monday   Tuesday Wednesday  Thursday    Friday \n     TRUE     FALSE      TRUE     FALSE      TRUE \n   Monday Wednesday    Friday \n      140        20       240 \n"
        }
      ]
    },
    {
      "source": [
        "## Nombrar matrices"
      ],
      "metadata": {
        "id": "c9d3756f-ae96-4760-a8ec-84907357d37a"
      },
      "cell_type": "markdown",
      "id": "c9d3756f-ae96-4760-a8ec-84907357d37a"
    },
    {
      "source": [
        "# Construct star_wars_matrix\n",
        "box_office <- c(460.998, 314.4, 290.475, 247.900, 309.306, 165.8)\n",
        "region <- c(\"US\", \"non-US\")\n",
        "titles <- c(\"A New Hope\",\n",
        "                 \"The Empire Strikes Back\",\n",
        "                 \"Return of the Jedi\")\n",
        "\n",
        "star_wars_matrix <- matrix(box_office,\n",
        "                      nrow = 3, byrow = TRUE,\n",
        "                      dimnames = list(titles, region)) #dimnames(filas,columnas)\n",
        "star_wars_matrix"
      ],
      "metadata": {
        "executionCancelledAt": null,
        "executionTime": 156,
        "lastExecutedAt": 1687552508341,
        "lastScheduledRunId": null,
        "lastSuccessfullyExecutedCode": "# Construct star_wars_matrix\nbox_office <- c(460.998, 314.4, 290.475, 247.900, 309.306, 165.8)\nregion <- c(\"US\", \"non-US\")\ntitles <- c(\"A New Hope\", \n                 \"The Empire Strikes Back\", \n                 \"Return of the Jedi\")\n               \nstar_wars_matrix <- matrix(box_office, \n                      nrow = 3, byrow = TRUE,\n                      dimnames = list(titles, region))\nstar_wars_matrix",
        "id": "740f31d4-5b4c-4eba-9397-b202f52e20c0",
        "outputId": "8e4ab843-dc59-4f75-b44e-c69fc182116b"
      },
      "cell_type": "code",
      "id": "740f31d4-5b4c-4eba-9397-b202f52e20c0",
      "execution_count": null,
      "outputs": [
        {
          "output_type": "display_data",
          "data": {
            "text/html": "<table class=\"dataframe\">\n<caption>A matrix: 3 × 2 of type dbl</caption>\n<thead>\n\t<tr><th></th><th scope=col>US</th><th scope=col>non-US</th></tr>\n</thead>\n<tbody>\n\t<tr><th scope=row>A New Hope</th><td>460.998</td><td>314.4</td></tr>\n\t<tr><th scope=row>The Empire Strikes Back</th><td>290.475</td><td>247.9</td></tr>\n\t<tr><th scope=row>Return of the Jedi</th><td>309.306</td><td>165.8</td></tr>\n</tbody>\n</table>\n",
            "text/markdown": "\nA matrix: 3 × 2 of type dbl\n\n| <!--/--> | US | non-US |\n|---|---|---|\n| A New Hope | 460.998 | 314.4 |\n| The Empire Strikes Back | 290.475 | 247.9 |\n| Return of the Jedi | 309.306 | 165.8 |\n\n",
            "text/latex": "A matrix: 3 × 2 of type dbl\n\\begin{tabular}{r|ll}\n  & US & non-US\\\\\n\\hline\n\tA New Hope & 460.998 & 314.4\\\\\n\tThe Empire Strikes Back & 290.475 & 247.9\\\\\n\tReturn of the Jedi & 309.306 & 165.8\\\\\n\\end{tabular}\n",
            "text/plain": "                        US      non-US\nA New Hope              460.998 314.4 \nThe Empire Strikes Back 290.475 247.9 \nReturn of the Jedi      309.306 165.8 "
          },
          "metadata": {}
        }
      ]
    },
    {
      "source": [
        "## Adjuntar"
      ],
      "metadata": {
        "id": "f4e316af-1e8e-425a-9971-a32aea68f526"
      },
      "cell_type": "markdown",
      "id": "f4e316af-1e8e-425a-9971-a32aea68f526"
    },
    {
      "source": [
        "Every `cbind()` (une como columnas matrices y vectores) has an `rbind()` (une como filas matrices y vectores). Every `colSums()` (obtiene el total de las columnas) has an `rowSums()` (obtiene el total de las filas)."
      ],
      "metadata": {
        "id": "3d3a673e-e3a0-4780-a40c-5cb792224f9b"
      },
      "cell_type": "markdown",
      "id": "3d3a673e-e3a0-4780-a40c-5cb792224f9b"
    },
    {
      "source": [
        "# Construct star_wars_matrix\n",
        "box_office <- c(460.998, 314.4, 290.475, 247.900, 309.306, 165.8)\n",
        "region <- c(\"US\", \"non-US\")\n",
        "titles <- c(\"A New Hope\",\n",
        "            \"The Empire Strikes Back\",\n",
        "            \"Return of the Jedi\")\n",
        "\n",
        "star_wars_matrix <- matrix(box_office,\n",
        "                      nrow = 3, byrow = TRUE,\n",
        "                      dimnames = list(titles, region))\n",
        "print(star_wars_matrix)\n",
        "\n",
        "print(\"------------------------------------------------------------------\")\n",
        "# The worldwide box office figures\n",
        "TOTAL_COL <- rowSums(star_wars_matrix)\n",
        "print(TOTAL_COL)\n",
        "\n",
        "TOTAL_FIL <- colSums(star_wars_matrix)\n",
        "print(TOTAL_FIL)\n",
        "\n",
        "\n",
        "print(\"-----------------------    cbind()    ----------------------------\")\n",
        "# Bind the new variable worldwide_vector as a column to star_wars_matrix\n",
        "all_wars_matrix <- cbind(star_wars_matrix,TOTAL_COL)\n",
        "print(all_wars_matrix)\n",
        "\n",
        "print(\"-----------------------    rbind()    ----------------------------\")\n",
        "# Bind the new variable worldwide_vector as a column to star_wars_matrix\n",
        "all_wars_matrix <- rbind(star_wars_matrix,TOTAL_FIL)\n",
        "print(all_wars_matrix)"
      ],
      "metadata": {
        "executionCancelledAt": null,
        "executionTime": 45,
        "lastExecutedAt": 1687553057052,
        "lastScheduledRunId": null,
        "lastSuccessfullyExecutedCode": "# Construct star_wars_matrix\nbox_office <- c(460.998, 314.4, 290.475, 247.900, 309.306, 165.8)\nregion <- c(\"US\", \"non-US\")\ntitles <- c(\"A New Hope\", \n            \"The Empire Strikes Back\", \n            \"Return of the Jedi\")\n               \nstar_wars_matrix <- matrix(box_office, \n                      nrow = 3, byrow = TRUE,\n                      dimnames = list(titles, region))\nprint(star_wars_matrix)\n\nprint(\"------------------------------------------------------------------\")\n# The worldwide box office figures\nTOTAL_COL <- rowSums(star_wars_matrix)\nprint(TOTAL_COL)\n\nTOTAL_FIL <- colSums(star_wars_matrix)\nprint(TOTAL_FIL)\n\n\nprint(\"-----------------------    cbind()    ----------------------------\")\n# Bind the new variable worldwide_vector as a column to star_wars_matrix\nall_wars_matrix <- cbind(star_wars_matrix,TOTAL_COL)\nprint(all_wars_matrix)\n\nprint(\"-----------------------    rbind()    ----------------------------\")\n# Bind the new variable worldwide_vector as a column to star_wars_matrix\nall_wars_matrix <- rbind(star_wars_matrix,TOTAL_FIL)\nprint(all_wars_matrix)",
        "id": "dc98e9ad-7e0a-4f41-9ff9-169bb8a71a25",
        "outputId": "a7058320-7cbc-491a-cee1-34b93c33c6f6"
      },
      "cell_type": "code",
      "id": "dc98e9ad-7e0a-4f41-9ff9-169bb8a71a25",
      "execution_count": null,
      "outputs": [
        {
          "output_type": "stream",
          "name": "stdout",
          "text": "                             US non-US\nA New Hope              460.998  314.4\nThe Empire Strikes Back 290.475  247.9\nReturn of the Jedi      309.306  165.8\n[1] \"------------------------------------------------------------------\"\n             A New Hope The Empire Strikes Back      Return of the Jedi \n                775.398                 538.375                 475.106 \n      US   non-US \n1060.779  728.100 \n[1] \"-----------------------    cbind()    ----------------------------\"\n                             US non-US TOTAL_COL\nA New Hope              460.998  314.4   775.398\nThe Empire Strikes Back 290.475  247.9   538.375\nReturn of the Jedi      309.306  165.8   475.106\n[1] \"-----------------------    rbind()    ----------------------------\"\n                              US non-US\nA New Hope               460.998  314.4\nThe Empire Strikes Back  290.475  247.9\nReturn of the Jedi       309.306  165.8\nTOTAL_FIL               1060.779  728.1\n"
        }
      ]
    },
    {
      "source": [
        " If you want to check out the contents of the workspace, you can type `ls()` in the console."
      ],
      "metadata": {
        "id": "823072d9-5eaa-402b-b99b-af3824d1e91a"
      },
      "id": "823072d9-5eaa-402b-b99b-af3824d1e91a",
      "cell_type": "markdown"
    },
    {
      "source": [
        "## Eliminar una fila de un dataframe"
      ],
      "metadata": {
        "id": "828bedc0-832e-435d-bb28-9b36128a9110"
      },
      "cell_type": "markdown",
      "id": "828bedc0-832e-435d-bb28-9b36128a9110"
    },
    {
      "source": [
        "Delete the company column\n",
        "\n",
        "cash$company <- NULL"
      ],
      "metadata": {
        "id": "14b518db-6d1b-4775-84e2-f7fb57b5103a"
      },
      "cell_type": "markdown",
      "id": "14b518db-6d1b-4775-84e2-f7fb57b5103a"
    },
    {
      "source": [
        "## Filtrar un dataframe, de acuerdo a un parámetro\n",
        "\n",
        "![image](image.png)"
      ],
      "metadata": {
        "id": "6a67c841-e2d1-43b2-81a2-1172b601fdb8"
      },
      "cell_type": "markdown",
      "id": "6a67c841-e2d1-43b2-81a2-1172b601fdb8"
    },
    {
      "source": [
        "## Añadir una columna\n",
        "\n",
        "![image-2](image-2.png)"
      ],
      "metadata": {
        "id": "bc44271b-468e-44c0-8fdb-ba67df037620"
      },
      "cell_type": "markdown",
      "id": "bc44271b-468e-44c0-8fdb-ba67df037620"
    },
    {
      "source": [
        "## Valor Presente $\n",
        "\n",
        "![image-3](image-3.png)"
      ],
      "metadata": {
        "id": "6eea4168-d1a8-4956-b9d9-a217fb5d92b4"
      },
      "cell_type": "markdown",
      "id": "6eea4168-d1a8-4956-b9d9-a217fb5d92b4"
    },
    {
      "source": [
        "# Factor"
      ],
      "metadata": {
        "id": "a53e417d-07de-4fed-b5eb-f0a2f248f9f7"
      },
      "cell_type": "markdown",
      "id": "a53e417d-07de-4fed-b5eb-f0a2f248f9f7"
    },
    {
      "source": [
        "## Qué es un FACTOR\n",
        "- Un factor es una variable categórica en R que puede tomar un conjunto limitado de valores.\n",
        "- Se utiliza para representar datos cualitativos o categóricos.\n",
        "- Por ejemplo, el género, el estado civil, la educación, etc.\n",
        "- Los factores se pueden crear utilizando la función `factor()`"
      ],
      "metadata": {
        "id": "7de261dd-504a-4d5a-b800-0844249b1eec"
      },
      "cell_type": "markdown",
      "id": "7de261dd-504a-4d5a-b800-0844249b1eec"
    },
    {
      "source": [
        "# Animals\n",
        "animals_vector <- c(\"Elephant\", \"Giraffe\", \"Donkey\", \"Horse\")\n",
        "factor_animals_vector <- factor(animals_vector)\n",
        "print(factor_animals_vector)\n",
        "\n",
        "# Temperature (NOTAR: orden)\n",
        "temperature_vector <- c(\"High\", \"Low\", \"High\",\"Low\", \"Medium\")\n",
        "factor_temperature_vector <- factor(temperature_vector, order = TRUE, levels = c(\"Low\", \"Medium\", \"High\"))\n",
        "print(factor_temperature_vector)"
      ],
      "metadata": {
        "executionCancelledAt": null,
        "executionTime": 48,
        "lastExecutedAt": 1687799109324,
        "lastScheduledRunId": null,
        "lastSuccessfullyExecutedCode": "# Animals\nanimals_vector <- c(\"Elephant\", \"Giraffe\", \"Donkey\", \"Horse\")\nfactor_animals_vector <- factor(animals_vector)\nprint(factor_animals_vector)\n\n# Temperature (NOTAR: orden)\ntemperature_vector <- c(\"High\", \"Low\", \"High\",\"Low\", \"Medium\")\nfactor_temperature_vector <- factor(temperature_vector, order = TRUE, levels = c(\"Low\", \"Medium\", \"High\"))\nprint(factor_temperature_vector)",
        "id": "c9c77a2c-c115-435c-98a8-39f9c39444fe",
        "outputId": "ac216008-ca05-4e12-93ef-057d2584a5ce"
      },
      "cell_type": "code",
      "id": "c9c77a2c-c115-435c-98a8-39f9c39444fe",
      "execution_count": null,
      "outputs": [
        {
          "output_type": "stream",
          "name": "stdout",
          "text": "[1] Elephant Giraffe  Donkey   Horse   \nLevels: Donkey Elephant Giraffe Horse\n[1] High   Low    High   Low    Medium\nLevels: Low < Medium < High\n"
        }
      ]
    },
    {
      "source": [
        "There are `two types of categorical variables`: a **nominal categorical** variable and an **ordinal categorical** variable.\n",
        "\n",
        "A **nominal variable** is a categorical variable without an implied order. This means that it is impossible to say that 'one is worth more than the other'. For example, `c(\"Elephant\", \"Giraffe\", \"Donkey\", \"Horse\")`. Here, it is impossible to say that one stands above or below the other.\n",
        "\n",
        "In contrast, **ordinal variables** do have a natural ordering. For example `c(\"Low\", \"Medium\", \"High\")`. Here it is obvious that \"High\">\"Medium\">\"Low\"."
      ],
      "metadata": {
        "id": "e30a791a-4bcf-4ef4-887e-8ae5d1a93445"
      },
      "cell_type": "markdown",
      "id": "e30a791a-4bcf-4ef4-887e-8ae5d1a93445"
    },
    {
      "source": [
        "## Borrar un nivel de un FACTOR\n",
        "\n",
        "![image-5](image-5.png)\n",
        "![image-6](image-6.png)"
      ],
      "metadata": {
        "id": "93914b43-fc73-4574-8381-6bf0cb4b915f"
      },
      "cell_type": "markdown",
      "id": "93914b43-fc73-4574-8381-6bf0cb4b915f"
    },
    {
      "source": [
        "## Cambiar nombre de NIVELES\n",
        "However, sometimes you will want to change the names of these levels for clarity or other reasons. R allows you to do this with the function `levels()`"
      ],
      "metadata": {
        "id": "18208a3a-3705-4da1-aef8-0edda3e4b78e"
      },
      "cell_type": "markdown",
      "id": "18208a3a-3705-4da1-aef8-0edda3e4b78e"
    },
    {
      "cell_type": "markdown",
      "source": [
        "Hol abola\n",
        "\n",
        "![image.png](data:image/png;base64,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)"
      ],
      "metadata": {
        "id": "g40mRgF0OOvF"
      },
      "id": "g40mRgF0OOvF"
    },
    {
      "source": [
        "# Code to build factor_survey_vector\n",
        "survey_vector <- c(\"M\", \"F\", \"F\", \"M\", \"M\")\n",
        "factor_survey_vector <- factor(survey_vector)\n",
        "print(factor_survey_vector)\n",
        "\n",
        "# Specify the levels of factor_survey_vector\n",
        "levels(factor_survey_vector) <- c(\"Female\",\"Male\")\n",
        "\n",
        "print(factor_survey_vector) #NOTAR: que el factor tambíen cambia con los nuevos nombres"
      ],
      "metadata": {
        "executionCancelledAt": null,
        "executionTime": 1375,
        "lastExecutedAt": 1687801174503,
        "lastScheduledRunId": null,
        "lastSuccessfullyExecutedCode": "# Code to build factor_survey_vector\nsurvey_vector <- c(\"M\", \"F\", \"F\", \"M\", \"M\")\nfactor_survey_vector <- factor(survey_vector)\nprint(factor_survey_vector)\n\n# Specify the levels of factor_survey_vector\nlevels(factor_survey_vector) <- c(\"Female\",\"Male\")\n\nprint(factor_survey_vector) #NOTAR: que el factor tambíen cambia con los nuevos nombres",
        "id": "eb969725-600b-4652-bbdf-ce509d94cc4a",
        "outputId": "c0c38b5b-c269-4f2b-e6ec-fe84b359855e"
      },
      "cell_type": "code",
      "id": "eb969725-600b-4652-bbdf-ce509d94cc4a",
      "execution_count": null,
      "outputs": [
        {
          "output_type": "stream",
          "name": "stdout",
          "text": "[1] M F F M M\nLevels: F M\n[1] Male   Female Female Male   Male  \nLevels: Female Male\n"
        }
      ]
    },
    {
      "source": [
        "usando `summary()`"
      ],
      "metadata": {
        "id": "0c9cae78-e1e4-4c1b-ab48-36dc274ec208"
      },
      "cell_type": "markdown",
      "id": "0c9cae78-e1e4-4c1b-ab48-36dc274ec208"
    },
    {
      "source": [
        "survey_vector <- c(\"M\", \"F\", \"F\", \"M\", \"M\")\n",
        "factor_survey_vector <- factor(survey_vector)\n",
        "print(summary(factor_survey_vector)) # Me dice cuantos de cada tipo hay"
      ],
      "metadata": {
        "executionCancelledAt": null,
        "executionTime": 48,
        "lastExecutedAt": 1687801372912,
        "lastScheduledRunId": null,
        "lastSuccessfullyExecutedCode": "survey_vector <- c(\"M\", \"F\", \"F\", \"M\", \"M\")\nfactor_survey_vector <- factor(survey_vector)\nprint(summary(factor_survey_vector)) # Me dice cuantos de cada tipo hay",
        "id": "2fb65df3-0316-4f16-82f8-59a764a35696",
        "outputId": "0d6b6f5c-f0e4-4b76-ed15-cf9c00109154"
      },
      "cell_type": "code",
      "id": "2fb65df3-0316-4f16-82f8-59a764a35696",
      "execution_count": null,
      "outputs": [
        {
          "output_type": "stream",
          "name": "stdout",
          "text": "F M \n2 3 \n"
        }
      ]
    }
  ],
  "metadata": {
    "language_info": {
      "name": "R",
      "codemirror_mode": "r",
      "pygments_lexer": "r",
      "mimetype": "text/x-r-source",
      "file_extension": ".r",
      "version": "4.2.1"
    },
    "kernelspec": {
      "display_name": "R",
      "language": "R",
      "name": "ir"
    },
    "editor": "DataCamp Workspace",
    "colab": {
      "provenance": [],
      "include_colab_link": true
    }
  },
  "nbformat": 4,
  "nbformat_minor": 5
}